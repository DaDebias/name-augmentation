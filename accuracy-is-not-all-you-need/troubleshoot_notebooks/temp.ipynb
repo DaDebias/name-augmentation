{
 "cells": [
  {
   "cell_type": "code",
   "execution_count": 1,
   "metadata": {},
   "outputs": [],
   "source": [
    "import os \n",
    "os.chdir (\"/work/MinaAlmasi#1657/DaCy/papers/DaCy-A-Unified-Framework-for-Danish-NLP\")"
   ]
  },
  {
   "cell_type": "code",
   "execution_count": 3,
   "metadata": {},
   "outputs": [],
   "source": [
    "from pathlib import Path\n",
    "\n",
    "import pandas as pd\n",
    "import spacy\n",
    "import spacy_stanza\n",
    "import stanza\n",
    "from spacy.training.augment import dont_augment\n",
    "\n",
    "import augmenty\n",
    "\n",
    "from dacy.datasets import dane, danish_names, female_names, male_names, muslim_names, load_names\n",
    "from dacy.score import n_sents_score, score\n",
    "\n",
    "import apply_fns\n",
    "#from apply_fns.apply_fn_danlp import apply_danlp_bert\n",
    "#from apply_fns.apply_fn_nerda import apply_nerda"
   ]
  },
  {
   "cell_type": "code",
   "execution_count": 9,
   "metadata": {},
   "outputs": [],
   "source": [
    "#not working\n",
    "#from apply_fns.apply_fn_flair import apply_flair\n",
    "from apply_fns.apply_fn_polyglot import apply_polyglot"
   ]
  },
  {
   "cell_type": "code",
   "execution_count": 10,
   "metadata": {},
   "outputs": [
    {
     "name": "stderr",
     "output_type": "stream",
     "text": [
      "60882cf072bffe7f46a83a8307373480?download: 475kB [00:00, 1.24MB/s]                            \n",
      "/home/coder/.local/lib/python3.9/site-packages/torch/cuda/__init__.py:52: UserWarning: CUDA initialization: Found no NVIDIA driver on your system. Please check that you have an NVIDIA GPU and installed a driver from http://www.nvidia.com/Download/index.aspx (Triggered internally at  /pytorch/c10/cuda/CUDAFunctions.cpp:100.)\n",
      "  return torch._C._cuda_getDeviceCount() > 0\n"
     ]
    },
    {
     "name": "stdout",
     "output_type": "stream",
     "text": [
      "\u001b[38;5;4mℹ Grouping every 1 sentences into a document.\u001b[0m\n",
      "\u001b[38;5;3m⚠ To generate better training data, you may want to group sentences\n",
      "into documents with `-n 10`.\u001b[0m\n",
      "\u001b[38;5;2m✔ Generated output file (565 documents):\n",
      "/home/coder/.dacy/datasets/dane/dane_train_1.spacy\u001b[0m\n"
     ]
    },
    {
     "name": "stderr",
     "output_type": "stream",
     "text": [
      "/home/coder/.local/lib/python3.9/site-packages/torch/cuda/__init__.py:52: UserWarning: CUDA initialization: Found no NVIDIA driver on your system. Please check that you have an NVIDIA GPU and installed a driver from http://www.nvidia.com/Download/index.aspx (Triggered internally at  /pytorch/c10/cuda/CUDAFunctions.cpp:100.)\n",
      "  return torch._C._cuda_getDeviceCount() > 0\n"
     ]
    },
    {
     "name": "stdout",
     "output_type": "stream",
     "text": [
      "\u001b[38;5;4mℹ Grouping every 1 sentences into a document.\u001b[0m\n",
      "\u001b[38;5;3m⚠ To generate better training data, you may want to group sentences\n",
      "into documents with `-n 10`.\u001b[0m\n",
      "\u001b[38;5;2m✔ Generated output file (565 documents):\n",
      "/home/coder/.dacy/datasets/dane/dane_dev_1.spacy\u001b[0m\n"
     ]
    },
    {
     "name": "stderr",
     "output_type": "stream",
     "text": [
      "/home/coder/.local/lib/python3.9/site-packages/torch/cuda/__init__.py:52: UserWarning: CUDA initialization: Found no NVIDIA driver on your system. Please check that you have an NVIDIA GPU and installed a driver from http://www.nvidia.com/Download/index.aspx (Triggered internally at  /pytorch/c10/cuda/CUDAFunctions.cpp:100.)\n",
      "  return torch._C._cuda_getDeviceCount() > 0\n"
     ]
    },
    {
     "name": "stdout",
     "output_type": "stream",
     "text": [
      "\u001b[38;5;4mℹ Grouping every 1 sentences into a document.\u001b[0m\n",
      "\u001b[38;5;3m⚠ To generate better training data, you may want to group sentences\n",
      "into documents with `-n 10`.\u001b[0m\n",
      "\u001b[38;5;2m✔ Generated output file (565 documents):\n",
      "/home/coder/.dacy/datasets/dane/dane_test_1.spacy\u001b[0m\n"
     ]
    },
    {
     "name": "stderr",
     "output_type": "stream",
     "text": [
      "/home/coder/.local/lib/python3.9/site-packages/torch/cuda/__init__.py:52: UserWarning: CUDA initialization: Found no NVIDIA driver on your system. Please check that you have an NVIDIA GPU and installed a driver from http://www.nvidia.com/Download/index.aspx (Triggered internally at  /pytorch/c10/cuda/CUDAFunctions.cpp:100.)\n",
      "  return torch._C._cuda_getDeviceCount() > 0\n"
     ]
    },
    {
     "name": "stdout",
     "output_type": "stream",
     "text": [
      "\u001b[38;5;4mℹ Grouping every 1 sentences into a document.\u001b[0m\n",
      "\u001b[38;5;3m⚠ To generate better training data, you may want to group sentences\n",
      "into documents with `-n 10`.\u001b[0m\n",
      "\u001b[38;5;2m✔ Generated output file (565 documents):\n",
      "/home/coder/.dacy/datasets/dane/dane_1.spacy\u001b[0m\n"
     ]
    },
    {
     "name": "stderr",
     "output_type": "stream",
     "text": [
      "/home/coder/.local/lib/python3.9/site-packages/dacy/datasets/names.py:50: FutureWarning: Not prepending group keys to the result index of transform-like apply. In the future, the group keys will be included in the index, regardless of whether the applied function returns a like-indexed object.\n",
      "To preserve the previous behavior, use\n",
      "\n",
      "\t>>> .groupby(..., group_keys=False)\n",
      "\n",
      "To adopt the future behavior and silence this warning, use \n",
      "\n",
      "\t>>> .groupby(..., group_keys=True)\n",
      "  names = names.groupby(level=0).apply(lambda x: x / float(x.sum()))\n",
      "/home/coder/.local/lib/python3.9/site-packages/dacy/datasets/names.py:50: FutureWarning: Not prepending group keys to the result index of transform-like apply. In the future, the group keys will be included in the index, regardless of whether the applied function returns a like-indexed object.\n",
      "To preserve the previous behavior, use\n",
      "\n",
      "\t>>> .groupby(..., group_keys=False)\n",
      "\n",
      "To adopt the future behavior and silence this warning, use \n",
      "\n",
      "\t>>> .groupby(..., group_keys=True)\n",
      "  names = names.groupby(level=0).apply(lambda x: x / float(x.sum()))\n",
      "/home/coder/.local/lib/python3.9/site-packages/dacy/datasets/names.py:50: FutureWarning: Not prepending group keys to the result index of transform-like apply. In the future, the group keys will be included in the index, regardless of whether the applied function returns a like-indexed object.\n",
      "To preserve the previous behavior, use\n",
      "\n",
      "\t>>> .groupby(..., group_keys=False)\n",
      "\n",
      "To adopt the future behavior and silence this warning, use \n",
      "\n",
      "\t>>> .groupby(..., group_keys=True)\n",
      "  names = names.groupby(level=0).apply(lambda x: x / float(x.sum()))\n",
      "/home/coder/.local/lib/python3.9/site-packages/dacy/datasets/names.py:50: FutureWarning: Not prepending group keys to the result index of transform-like apply. In the future, the group keys will be included in the index, regardless of whether the applied function returns a like-indexed object.\n",
      "To preserve the previous behavior, use\n",
      "\n",
      "\t>>> .groupby(..., group_keys=False)\n",
      "\n",
      "To adopt the future behavior and silence this warning, use \n",
      "\n",
      "\t>>> .groupby(..., group_keys=True)\n",
      "  names = names.groupby(level=0).apply(lambda x: x / float(x.sum()))\n"
     ]
    }
   ],
   "source": [
    "# Dataset\n",
    "test = dane(splits=[\"test\"])\n",
    "\n",
    "# Augmenters - Create a list of augmenters we wish to apply to our model.\n",
    "\n",
    "# randomly augment names\n",
    "dk_name_dict = danish_names()\n",
    "muslim_name_dict = muslim_names()\n",
    "f_name_dict = female_names()\n",
    "m_name_dict = male_names()\n",
    "\n",
    "# define muslim male and female names (not helper functions yet)\n",
    "muslim_m_dict = load_names(ethnicity=\"muslim\", gender=\"male\", min_prop_gender=0.5)\n",
    "muslim_f_dict = load_names(ethnicity=\"muslim\", gender=\"female\", min_prop_gender=0.5)\n",
    "\n",
    "patterns = [[\"first_name\"], [\"first_name\", \"last_name\"],\n",
    "            [\"first_name\", \"last_name\", \"last_name\"]]\n",
    "\n",
    "person_tag = \"PER\" # define person tag for augmenters\n",
    "\n",
    "dk_aug = augmenty.load(\n",
    "    \"per_replace.v1\", \n",
    "    patterns = patterns, \n",
    "    names = dk_name_dict, \n",
    "    level = 1, \n",
    "    person_tag = person_tag, \n",
    "    replace_consistency = True\n",
    "    )\n",
    "\n",
    "f_aug = augmenty.load(\n",
    "    \"per_replace.v1\", \n",
    "    patterns = patterns, \n",
    "    names = f_name_dict, \n",
    "    level = 1, \n",
    "    person_tag = person_tag, \n",
    "    replace_consistency = True\n",
    "    )\n",
    "\n",
    "m_aug = augmenty.load(\n",
    "    \"per_replace.v1\", \n",
    "    patterns = patterns, \n",
    "    names = m_name_dict, \n",
    "    level = 1, \n",
    "    person_tag = person_tag, \n",
    "    replace_consistency = True\n",
    "    )\n",
    "\n",
    "muslim_aug = augmenty.load(\n",
    "    \"per_replace.v1\", \n",
    "    patterns = patterns, \n",
    "    names = muslim_name_dict, \n",
    "    level = 1, \n",
    "    person_tag = person_tag, \n",
    "    replace_consistency = True\n",
    "    )\n",
    "\n",
    "muslim_f_aug = augmenty.load(\n",
    "    \"per_replace.v1\", \n",
    "    patterns = patterns, \n",
    "    names = muslim_f_dict, \n",
    "    level = 1, \n",
    "    person_tag = person_tag, \n",
    "    replace_consistency = True\n",
    "    )\n",
    "\n",
    "muslim_m_aug = augmenty.load(\n",
    "    \"per_replace.v1\", \n",
    "    patterns = patterns, \n",
    "    names = muslim_m_dict, \n",
    "    level = 1, \n",
    "    person_tag = person_tag, \n",
    "    replace_consistency = True\n",
    "    )"
   ]
  },
  {
   "cell_type": "code",
   "execution_count": 14,
   "metadata": {},
   "outputs": [],
   "source": [
    "n = 1\n",
    "# augmenter, name n, rep\n",
    "augmenters = [\n",
    "    #(dont_augment, \"No augmentation\", 1),\n",
    "    (dk_aug, \"Danish names\", n),\n",
    "    (muslim_aug, \"Muslim names\", n),\n",
    "    (f_aug, \"Female names\", n),\n",
    "    (m_aug, \"Male names\", n),\n",
    "    (muslim_f_aug, \"Muslim female names\", n),\n",
    "    (muslim_m_aug, \"Muslim male names\", n)\n",
    "]"
   ]
  },
  {
   "cell_type": "code",
   "execution_count": 15,
   "metadata": {},
   "outputs": [],
   "source": [
    "# Apply functions and models\n",
    "# Loading application functions for necessary models. No need to create one for SpaCy pipelines.\n",
    "\n",
    "model_dict = {\n",
    "    #\"stanza\": \"da\",\n",
    "    #\"spacy_small\": \"da_core_news_sm\",\n",
    "    #\"spacy_medium\": \"da_core_news_md\",\n",
    "    #\"spacy_large\": \"da_core_news_lg\",\n",
    "    #\"dacy_small\": \"da_dacy_small_trf-0.1.0\",\n",
    "    #\"dacy_medium\": \"da_dacy_medium_trf-0.1.0\",\n",
    "    #\"dacy_large\": \"da_dacy_large_trf-0.1.0\",\n",
    "    #\"flair\": apply_flair,\n",
    "    \"polyglot\": apply_polyglot,\n",
    "    #\"danlp_bert\": apply_danlp_bert,\n",
    "    #\"nerda_bert\": apply_nerda,\n",
    "}"
   ]
  },
  {
   "cell_type": "code",
   "execution_count": 16,
   "metadata": {},
   "outputs": [
    {
     "name": "stdout",
     "output_type": "stream",
     "text": [
      "[INFO]: Scoring model 'polyglot' using DaCy\n",
      "\t Running augmenter: Danish names\n",
      "\t Running augmenter: Muslim names\n",
      "\t Running augmenter: Female names\n",
      "\t Running augmenter: Male names\n"
     ]
    },
    {
     "ename": "KeyboardInterrupt",
     "evalue": "",
     "output_type": "error",
     "traceback": [
      "\u001b[0;31m---------------------------------------------------------------------------\u001b[0m",
      "\u001b[0;31mKeyboardInterrupt\u001b[0m                         Traceback (most recent call last)",
      "Cell \u001b[0;32mIn[16], line 26\u001b[0m\n\u001b[1;32m     23\u001b[0m \u001b[39mfor\u001b[39;00m aug, nam, k \u001b[39min\u001b[39;00m augmenters:\n\u001b[1;32m     24\u001b[0m     \u001b[39mprint\u001b[39m(\u001b[39mf\u001b[39m\u001b[39m\"\u001b[39m\u001b[39m\\t\u001b[39;00m\u001b[39m Running augmenter: \u001b[39m\u001b[39m{\u001b[39;00mnam\u001b[39m}\u001b[39;00m\u001b[39m\"\u001b[39m)\n\u001b[0;32m---> 26\u001b[0m     scores_ \u001b[39m=\u001b[39m score(corpus\u001b[39m=\u001b[39;49mtest, apply_fn\u001b[39m=\u001b[39;49mapply_fn, augmenters\u001b[39m=\u001b[39;49maug, k\u001b[39m=\u001b[39;49mk)\n\u001b[1;32m     27\u001b[0m     scores_[\u001b[39m\"\u001b[39m\u001b[39mmodel\u001b[39m\u001b[39m\"\u001b[39m] \u001b[39m=\u001b[39m mdl\n\u001b[1;32m     28\u001b[0m     scores_[\u001b[39m\"\u001b[39m\u001b[39maugmenter\u001b[39m\u001b[39m\"\u001b[39m] \u001b[39m=\u001b[39m nam\n",
      "File \u001b[0;32m~/.local/lib/python3.9/site-packages/dacy/score/score.py:164\u001b[0m, in \u001b[0;36mscore\u001b[0;34m(corpus, apply_fn, score_fn, augmenters, k, nlp, **kwargs)\u001b[0m\n\u001b[1;32m    161\u001b[0m     \u001b[39mreturn\u001b[39;00m pd\u001b[39m.\u001b[39mDataFrame(scores)\n\u001b[1;32m    163\u001b[0m \u001b[39mfor\u001b[39;00m i, aug \u001b[39min\u001b[39;00m \u001b[39menumerate\u001b[39m(augmenters):\n\u001b[0;32m--> 164\u001b[0m     scores_ \u001b[39m=\u001b[39m __score(aug)\n\u001b[1;32m    165\u001b[0m     scores \u001b[39m=\u001b[39m pd\u001b[39m.\u001b[39mconcat([scores, scores_]) \u001b[39mif\u001b[39;00m i \u001b[39m!=\u001b[39m \u001b[39m0\u001b[39m \u001b[39melse\u001b[39;00m scores_\n\u001b[1;32m    166\u001b[0m \u001b[39mreturn\u001b[39;00m scores\n",
      "File \u001b[0;32m~/.local/lib/python3.9/site-packages/dacy/score/score.py:145\u001b[0m, in \u001b[0;36mscore.<locals>.__score\u001b[0;34m(augmenter)\u001b[0m\n\u001b[1;32m    143\u001b[0m \u001b[39mfor\u001b[39;00m i \u001b[39min\u001b[39;00m \u001b[39mrange\u001b[39m(k):\n\u001b[1;32m    144\u001b[0m     s \u001b[39m=\u001b[39m time()\n\u001b[0;32m--> 145\u001b[0m     examples \u001b[39m=\u001b[39m apply_fn(corpus_(nlp))\n\u001b[1;32m    146\u001b[0m     speed \u001b[39m=\u001b[39m time() \u001b[39m-\u001b[39m s\n\u001b[1;32m    147\u001b[0m     scores \u001b[39m=\u001b[39m {\u001b[39m\"\u001b[39m\u001b[39mwall_time\u001b[39m\u001b[39m\"\u001b[39m: speed}\n",
      "File \u001b[0;32m/work/MinaAlmasi#1657/DaCy/papers/DaCy-A-Unified-Framework-for-Danish-NLP/apply_fns/apply_fn_utils.py:46\u001b[0m, in \u001b[0;36mapply_on_multiple_examples.<locals>.inner\u001b[0;34m(examples, **kwargs)\u001b[0m\n\u001b[1;32m     45\u001b[0m \u001b[39mdef\u001b[39;00m \u001b[39minner\u001b[39m(examples: Iterable[Example], \u001b[39m*\u001b[39m\u001b[39m*\u001b[39mkwargs) \u001b[39m-\u001b[39m\u001b[39m>\u001b[39m Iterable[Example]:\n\u001b[0;32m---> 46\u001b[0m     \u001b[39mreturn\u001b[39;00m [func(e, \u001b[39m*\u001b[39m\u001b[39m*\u001b[39mkwargs) \u001b[39mfor\u001b[39;00m e \u001b[39min\u001b[39;00m examples]\n",
      "File \u001b[0;32m/work/MinaAlmasi#1657/DaCy/papers/DaCy-A-Unified-Framework-for-Danish-NLP/apply_fns/apply_fn_utils.py:46\u001b[0m, in \u001b[0;36m<listcomp>\u001b[0;34m(.0)\u001b[0m\n\u001b[1;32m     45\u001b[0m \u001b[39mdef\u001b[39;00m \u001b[39minner\u001b[39m(examples: Iterable[Example], \u001b[39m*\u001b[39m\u001b[39m*\u001b[39mkwargs) \u001b[39m-\u001b[39m\u001b[39m>\u001b[39m Iterable[Example]:\n\u001b[0;32m---> 46\u001b[0m     \u001b[39mreturn\u001b[39;00m [func(e, \u001b[39m*\u001b[39;49m\u001b[39m*\u001b[39;49mkwargs) \u001b[39mfor\u001b[39;00m e \u001b[39min\u001b[39;00m examples]\n",
      "File \u001b[0;32m/work/MinaAlmasi#1657/DaCy/papers/DaCy-A-Unified-Framework-for-Danish-NLP/apply_fns/apply_fn_polyglot.py:30\u001b[0m, in \u001b[0;36m__apply_polyglot\u001b[0;34m(example, use_spacy)\u001b[0m\n\u001b[1;32m     28\u001b[0m     words \u001b[39m=\u001b[39m text\u001b[39m.\u001b[39mwords\n\u001b[1;32m     29\u001b[0m \u001b[39m# ner\u001b[39;00m\n\u001b[0;32m---> 30\u001b[0m iob \u001b[39m=\u001b[39m [iob \u001b[39mfor\u001b[39;00m token, iob \u001b[39min\u001b[39;00m ne_chunker\u001b[39m.\u001b[39;49mannotate(words)]\n\u001b[1;32m     31\u001b[0m \u001b[39m# pos-tagging\u001b[39;00m\n\u001b[1;32m     32\u001b[0m tags \u001b[39m=\u001b[39m [tag \u001b[39mfor\u001b[39;00m t, tag \u001b[39min\u001b[39;00m pos_tagger\u001b[39m.\u001b[39mannotate(words)]\n",
      "File \u001b[0;32m~/.local/lib/python3.9/site-packages/polyglot/tag/base.py:71\u001b[0m, in \u001b[0;36mTaggerBase.annotate\u001b[0;34m(self, sent)\u001b[0m\n\u001b[1;32m     69\u001b[0m words \u001b[39m=\u001b[39m []\n\u001b[1;32m     70\u001b[0m \u001b[39mfor\u001b[39;00m word, fv \u001b[39min\u001b[39;00m \u001b[39mself\u001b[39m\u001b[39m.\u001b[39msent2examples(sent):\n\u001b[0;32m---> 71\u001b[0m   probs \u001b[39m=\u001b[39m \u001b[39mself\u001b[39;49m\u001b[39m.\u001b[39;49mpredictor(fv)\n\u001b[1;32m     72\u001b[0m   tags \u001b[39m=\u001b[39m probs\u001b[39m.\u001b[39margsort()\n\u001b[1;32m     73\u001b[0m   tag \u001b[39m=\u001b[39m \u001b[39mself\u001b[39m\u001b[39m.\u001b[39mID_TAG[tags[\u001b[39m-\u001b[39m\u001b[39m1\u001b[39m]]\n",
      "File \u001b[0;32m~/.local/lib/python3.9/site-packages/polyglot/tag/base.py:118\u001b[0m, in \u001b[0;36mNEChunker._load_network.<locals>.predict_proba\u001b[0;34m(input_)\u001b[0m\n\u001b[1;32m    116\u001b[0m output \u001b[39m=\u001b[39m  (second_layer \u001b[39m*\u001b[39m  hidden)\u001b[39m.\u001b[39msum(axis\u001b[39m=\u001b[39m\u001b[39m1\u001b[39m)\n\u001b[1;32m    117\u001b[0m output_ \u001b[39m=\u001b[39m \u001b[39m1.0\u001b[39m\u001b[39m/\u001b[39m(\u001b[39m1.0\u001b[39m \u001b[39m+\u001b[39m np\u001b[39m.\u001b[39mexp(\u001b[39m-\u001b[39moutput))\n\u001b[0;32m--> 118\u001b[0m probs \u001b[39m=\u001b[39m output_\u001b[39m/\u001b[39;49moutput_\u001b[39m.\u001b[39;49msum()\n\u001b[1;32m    119\u001b[0m \u001b[39mreturn\u001b[39;00m probs\n",
      "\u001b[0;31mKeyboardInterrupt\u001b[0m: "
     ]
    }
   ],
   "source": [
    " # Performance\n",
    "\n",
    "Path(\"robustness\").mkdir(parents=True, exist_ok=True)\n",
    "\n",
    "for mdl in model_dict:\n",
    "    print(f\"[INFO]: Scoring model '{mdl}' using DaCy\")\n",
    "\n",
    "    # load model\n",
    "    if \"dacy\" in mdl:\n",
    "        apply_fn = dacy.load(model_dict[mdl])\n",
    "    elif \"spacy\" in mdl:\n",
    "        apply_fn = spacy.load(model_dict[mdl])\n",
    "        spacy.prefer_gpu()\n",
    "    elif \"stanza\" in mdl:\n",
    "        stanza.download(model_dict[mdl])\n",
    "        # Initialize the pipeline\n",
    "        apply_fn = spacy_stanza.load_pipeline(model_dict[mdl])\n",
    "    else:\n",
    "        apply_fn = model_dict[mdl]\n",
    "\n",
    "    i = 0\n",
    "    scores = []\n",
    "    for aug, nam, k in augmenters:\n",
    "        print(f\"\\t Running augmenter: {nam}\")\n",
    "\n",
    "        scores_ = score(corpus=test, apply_fn=apply_fn, augmenters=aug, k=k)\n",
    "        scores_[\"model\"] = mdl\n",
    "        scores_[\"augmenter\"] = nam\n",
    "        scores_[\"i\"] = i\n",
    "        scores.append(scores_)\n",
    "\n",
    "        i += 1\n",
    "\n",
    "    for n in [5, 10]:\n",
    "        scores_ = n_sents_score(n_sents=n, apply_fn=apply_fn)\n",
    "        scores_[\"model\"] = mdl\n",
    "        scores_[\"augmenter\"] = f\"Input size augmentation {n} sentences\"\n",
    "        scores_[\"i\"] = i + 1\n",
    "        scores.append(scores_)\n",
    "\n",
    "    scores = pd.concat(scores)\n",
    "\n",
    "    scores.to_csv(f\"robustness/{mdl}_augmentation_performance.csv\")"
   ]
  }
 ],
 "metadata": {
  "kernelspec": {
   "display_name": "Python 3",
   "language": "python",
   "name": "python3"
  },
  "language_info": {
   "codemirror_mode": {
    "name": "ipython",
    "version": 3
   },
   "file_extension": ".py",
   "mimetype": "text/x-python",
   "name": "python",
   "nbconvert_exporter": "python",
   "pygments_lexer": "ipython3",
   "version": "3.9.2 (default, Feb 28 2021, 17:03:44) \n[GCC 10.2.1 20210110]"
  },
  "orig_nbformat": 4,
  "vscode": {
   "interpreter": {
    "hash": "767d51c1340bd893661ea55ea3124f6de3c7a262a8b4abca0554b478b1e2ff90"
   }
  }
 },
 "nbformat": 4,
 "nbformat_minor": 2
}
