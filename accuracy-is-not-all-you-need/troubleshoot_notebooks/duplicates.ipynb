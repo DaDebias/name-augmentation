{
 "cells": [
  {
   "cell_type": "code",
   "execution_count": 8,
   "metadata": {},
   "outputs": [],
   "source": [
    "from dacy.datasets import dane, danish_names, female_names, male_names, muslim_names, load_names\n",
    "import pandas as pd"
   ]
  },
  {
   "cell_type": "code",
   "execution_count": 139,
   "metadata": {},
   "outputs": [
    {
     "name": "stderr",
     "output_type": "stream",
     "text": [
      "/home/coder/.local/lib/python3.9/site-packages/dacy/datasets/names.py:53: FutureWarning: Not prepending group keys to the result index of transform-like apply. In the future, the group keys will be included in the index, regardless of whether the applied function returns a like-indexed object.\n",
      "To preserve the previous behavior, use\n",
      "\n",
      "\t>>> .groupby(..., group_keys=False)\n",
      "\n",
      "To adopt the future behavior and silence this warning, use \n",
      "\n",
      "\t>>> .groupby(..., group_keys=True)\n",
      "  names = names.groupby(level=0).apply(lambda x: x / float(x.sum()))\n",
      "/home/coder/.local/lib/python3.9/site-packages/dacy/datasets/names.py:53: FutureWarning: Not prepending group keys to the result index of transform-like apply. In the future, the group keys will be included in the index, regardless of whether the applied function returns a like-indexed object.\n",
      "To preserve the previous behavior, use\n",
      "\n",
      "\t>>> .groupby(..., group_keys=False)\n",
      "\n",
      "To adopt the future behavior and silence this warning, use \n",
      "\n",
      "\t>>> .groupby(..., group_keys=True)\n",
      "  names = names.groupby(level=0).apply(lambda x: x / float(x.sum()))\n",
      "/home/coder/.local/lib/python3.9/site-packages/dacy/datasets/names.py:53: FutureWarning: Not prepending group keys to the result index of transform-like apply. In the future, the group keys will be included in the index, regardless of whether the applied function returns a like-indexed object.\n",
      "To preserve the previous behavior, use\n",
      "\n",
      "\t>>> .groupby(..., group_keys=False)\n",
      "\n",
      "To adopt the future behavior and silence this warning, use \n",
      "\n",
      "\t>>> .groupby(..., group_keys=True)\n",
      "  names = names.groupby(level=0).apply(lambda x: x / float(x.sum()))\n",
      "/home/coder/.local/lib/python3.9/site-packages/dacy/datasets/names.py:53: FutureWarning: Not prepending group keys to the result index of transform-like apply. In the future, the group keys will be included in the index, regardless of whether the applied function returns a like-indexed object.\n",
      "To preserve the previous behavior, use\n",
      "\n",
      "\t>>> .groupby(..., group_keys=False)\n",
      "\n",
      "To adopt the future behavior and silence this warning, use \n",
      "\n",
      "\t>>> .groupby(..., group_keys=True)\n",
      "  names = names.groupby(level=0).apply(lambda x: x / float(x.sum()))\n"
     ]
    }
   ],
   "source": [
    "#load all names\n",
    "dk_name_dict = danish_names()\n",
    "muslim_name_dict = muslim_names()\n",
    "\n",
    "f_name_dict = female_names()\n",
    "m_name_dict = male_names()\n",
    "\n",
    "muslim_m_dict = load_names(ethnicity=\"muslim\", gender=\"male\", min_prop_gender=0.5)\n",
    "muslim_f_dict = load_names(ethnicity=\"muslim\", gender=\"female\", min_prop_gender=0.5)"
   ]
  },
  {
   "cell_type": "code",
   "execution_count": 197,
   "metadata": {},
   "outputs": [],
   "source": [
    "duplicates_set = list(set(dk_name_dict[\"first_name\"]).intersection(muslim_name_dict[\"first_name\"]))"
   ]
  },
  {
   "cell_type": "code",
   "execution_count": 200,
   "metadata": {},
   "outputs": [],
   "source": [
    "df = pd.DataFrame(duplicates_set)\n",
    "df['origin'] = ''"
   ]
  },
  {
   "cell_type": "code",
   "execution_count": null,
   "metadata": {},
   "outputs": [],
   "source": [
    "df.to_csv(\"new_duplicates_list.csv\")"
   ]
  },
  {
   "cell_type": "code",
   "execution_count": 122,
   "metadata": {},
   "outputs": [],
   "source": [
    "duplicates = pd.read_csv(\"duplicate-names-annotated.csv\", index_col=[0])"
   ]
  },
  {
   "cell_type": "code",
   "execution_count": 100,
   "metadata": {},
   "outputs": [],
   "source": [
    "muslim_filtered=list(duplicates.query(\"origin=='M'\")[\"duplicates\"])\n",
    "danish_filtered=list(duplicates.query(\"origin=='DK' or origin=='B'\")[\"duplicates\"])"
   ]
  },
  {
   "cell_type": "code",
   "execution_count": 107,
   "metadata": {},
   "outputs": [
    {
     "data": {
      "text/plain": [
       "['Ali',\n",
       " 'Fatima',\n",
       " 'Fatma',\n",
       " 'Yasmin',\n",
       " 'Leila',\n",
       " 'Miriam',\n",
       " 'Mariam',\n",
       " 'Bibi',\n",
       " 'Hassan',\n",
       " 'Ahmad',\n",
       " 'Amina',\n",
       " 'Zahra',\n",
       " 'Mina',\n",
       " 'Ali',\n",
       " 'Mohammad',\n",
       " 'Mohamed',\n",
       " 'Ahmad',\n",
       " 'Ahmed',\n",
       " 'Hassan',\n",
       " 'Ibrahim',\n",
       " 'Mohamad',\n",
       " 'Mohammed',\n",
       " 'Mustafa',\n",
       " 'Mehmet',\n",
       " 'Hussein',\n",
       " 'Mahmoud',\n",
       " 'Abdul',\n",
       " 'Omar',\n",
       " 'Malik',\n",
       " 'Osman',\n",
       " 'Abdi',\n",
       " 'Hasan',\n",
       " 'Said',\n",
       " 'Ismail',\n",
       " 'Ahmet',\n",
       " 'Khaled',\n",
       " 'Yusuf',\n",
       " 'Adnan',\n",
       " 'Abdullah',\n",
       " 'Sami',\n",
       " 'Samir',\n",
       " 'Amir',\n",
       " 'Muhammad',\n",
       " 'Abbas',\n",
       " 'Bilal',\n",
       " 'Jamal',\n",
       " 'Jamal',\n",
       " 'Muhammed',\n",
       " 'Karim',\n",
       " 'Youssef',\n",
       " 'Hamid',\n",
       " 'Abdullahi',\n",
       " 'Hussain',\n",
       " 'Saleh',\n",
       " 'Ali',\n",
       " 'Ahmed',\n",
       " 'Mohamed',\n",
       " 'Hassan',\n",
       " 'Hassan',\n",
       " 'Ahmad',\n",
       " 'Khan',\n",
       " 'Hussain',\n",
       " 'Hussein',\n",
       " 'Ibrahim',\n",
       " 'Mohammad',\n",
       " 'Abdi',\n",
       " 'Iqbal',\n",
       " 'Farah',\n",
       " 'Mohamad',\n",
       " 'Begum',\n",
       " 'Akhtar',\n",
       " 'Ismail',\n",
       " 'Saleh',\n",
       " 'Omar',\n",
       " 'Shah',\n",
       " 'Kaiser',\n",
       " 'Jama',\n",
       " 'Malik']"
      ]
     },
     "execution_count": 107,
     "metadata": {},
     "output_type": "execute_result"
    }
   ],
   "source": [
    "muslim_filtered"
   ]
  },
  {
   "cell_type": "code",
   "execution_count": 110,
   "metadata": {},
   "outputs": [],
   "source": [
    "l3 = [name for name in dk_name_dict[\"first_name\"] if name not in muslim_filtered]"
   ]
  },
  {
   "cell_type": "code",
   "execution_count": 117,
   "metadata": {},
   "outputs": [
    {
     "name": "stdout",
     "output_type": "stream",
     "text": [
      "78\n",
      "1290\n",
      "1237\n"
     ]
    }
   ],
   "source": [
    "print(len(muslim_filtered))\n",
    "print(len(dk_name_dict[\"first_name\"]))\n",
    "print(len(l3))"
   ]
  },
  {
   "cell_type": "code",
   "execution_count": 116,
   "metadata": {},
   "outputs": [
    {
     "data": {
      "text/plain": [
       "58"
      ]
     },
     "execution_count": 116,
     "metadata": {},
     "output_type": "execute_result"
    }
   ],
   "source": [
    "len(set(muslim_filtered))"
   ]
  }
 ],
 "metadata": {
  "kernelspec": {
   "display_name": "Python 3",
   "language": "python",
   "name": "python3"
  },
  "language_info": {
   "codemirror_mode": {
    "name": "ipython",
    "version": 3
   },
   "file_extension": ".py",
   "mimetype": "text/x-python",
   "name": "python",
   "nbconvert_exporter": "python",
   "pygments_lexer": "ipython3",
   "version": "3.9.2"
  },
  "orig_nbformat": 4,
  "vscode": {
   "interpreter": {
    "hash": "767d51c1340bd893661ea55ea3124f6de3c7a262a8b4abca0554b478b1e2ff90"
   }
  }
 },
 "nbformat": 4,
 "nbformat_minor": 2
}
