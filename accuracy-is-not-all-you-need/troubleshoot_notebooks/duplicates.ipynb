{
 "cells": [
  {
   "cell_type": "code",
   "execution_count": 3,
   "metadata": {},
   "outputs": [],
   "source": [
    "from dacy.datasets import dane, danish_names, female_names, male_names, muslim_names, load_names"
   ]
  },
  {
   "cell_type": "code",
   "execution_count": 4,
   "metadata": {},
   "outputs": [],
   "source": [
    "danish_dict = danish_names()\n",
    "muslim_dict = muslim_names()"
   ]
  },
  {
   "cell_type": "code",
   "execution_count": 5,
   "metadata": {},
   "outputs": [
    {
     "name": "stdout",
     "output_type": "stream",
     "text": [
      "['Maria', 'Sara', 'Mona', 'Sarah', 'Laila', 'Susan', 'Nadia', 'Sofia', 'Hanna', 'Naja', 'Nadja', 'Jasmin', 'Lina', 'Ali', 'Fatima', 'Fatma', 'May', 'Yasmin', 'Leila', 'Jul', 'Miriam', 'Mariam', 'Bibi', 'Hassan', 'Ahmad', 'Amina', 'Zahra', 'Mina', 'Jan', 'Ali', 'Mohammad', 'Mohamed', 'Adam', 'Ahmad', 'Elias', 'Ahmed', 'Hassan', 'Ibrahim', 'Mohamad', 'Mohammed', 'Mustafa', 'Jul', 'Mehmet', 'Hussein', 'Mahmoud', 'Abdul', 'Omar', 'Malik', 'Osman', 'Abdi', 'Hasan', 'Said', 'Ismail', 'Ahmet', 'Khaled', 'Ben', 'Yusuf', 'Adnan', 'Abdullah', 'Sami', 'Samir', 'Amir', 'Muhammad', 'Abbas', 'Bilal', 'Jamal', 'Jamal', 'Muhammed', 'Karim', 'Youssef', 'Hamid', 'Abdullahi', 'Hussain', 'Saleh', 'Ali', 'Ahmed', 'Mohamed', 'Hassan', 'Hassan', 'Ahmad', 'Khan', 'Hussain', 'Hussein', 'Ibrahim', 'Mohammad', 'Abdi', 'Iqbal', 'Farah', 'Mohamad', 'Begum', 'Akhtar', 'Ismail', 'Saleh', 'Omar', 'Shah', 'Kaiser', 'Gad', 'Jama', 'Malik']\n"
     ]
    }
   ],
   "source": [
    "duplicates = []\n",
    "\n",
    "for key1, value1 in danish_dict.items():\n",
    "    for key2, value2 in muslim_dict.items():\n",
    "        if key1 == key2:\n",
    "            for item1 in value1:\n",
    "                for item2 in value2:\n",
    "                    if item1 == item2:\n",
    "                        duplicates.append((item1))\n",
    "\n",
    "print(duplicates)"
   ]
  },
  {
   "cell_type": "code",
   "execution_count": 6,
   "metadata": {},
   "outputs": [],
   "source": [
    "import pandas as pd\n",
    "df = pd.DataFrame()"
   ]
  },
  {
   "cell_type": "code",
   "execution_count": 7,
   "metadata": {},
   "outputs": [],
   "source": [
    "df[\"duplicates\"] = duplicates"
   ]
  },
  {
   "cell_type": "code",
   "execution_count": 10,
   "metadata": {},
   "outputs": [],
   "source": [
    "df[\"origin\"] = \"\""
   ]
  },
  {
   "cell_type": "code",
   "execution_count": 13,
   "metadata": {},
   "outputs": [],
   "source": [
    "df.to_csv(\"duplicate-names.csv\")"
   ]
  },
  {
   "cell_type": "code",
   "execution_count": 14,
   "metadata": {},
   "outputs": [
    {
     "data": {
      "text/plain": [
       "'/work/MinaAlmasi#1657/DaCy/papers/DaCy-A-Unified-Framework-for-Danish-NLP/troubleshoot_notebooks'"
      ]
     },
     "execution_count": 14,
     "metadata": {},
     "output_type": "execute_result"
    }
   ],
   "source": [
    "import os\n",
    "os.getcwd()"
   ]
  }
 ],
 "metadata": {
  "kernelspec": {
   "display_name": "Python 3",
   "language": "python",
   "name": "python3"
  },
  "language_info": {
   "codemirror_mode": {
    "name": "ipython",
    "version": 3
   },
   "file_extension": ".py",
   "mimetype": "text/x-python",
   "name": "python",
   "nbconvert_exporter": "python",
   "pygments_lexer": "ipython3",
   "version": "3.9.2"
  },
  "orig_nbformat": 4,
  "vscode": {
   "interpreter": {
    "hash": "767d51c1340bd893661ea55ea3124f6de3c7a262a8b4abca0554b478b1e2ff90"
   }
  }
 },
 "nbformat": 4,
 "nbformat_minor": 2
}
