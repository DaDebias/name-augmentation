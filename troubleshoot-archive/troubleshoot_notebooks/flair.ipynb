{
 "cells": [
  {
   "cell_type": "code",
   "execution_count": 3,
   "metadata": {},
   "outputs": [
    {
     "name": "stdout",
     "output_type": "stream",
     "text": [
      "Defaulting to user installation because normal site-packages is not writeable\n",
      "Requirement already satisfied: danlp==0.0.11 in /home/coder/.local/lib/python3.9/site-packages (0.0.11)\n",
      "Collecting flair<0.6.0,>=0.4.5\n",
      "  Using cached flair-0.5.1-py3-none-any.whl (201 kB)\n",
      "Requirement already satisfied: pyconll in /home/coder/.local/lib/python3.9/site-packages (from danlp==0.0.11) (3.1.0)\n",
      "Requirement already satisfied: tqdm in /home/coder/.local/lib/python3.9/site-packages (from danlp==0.0.11) (4.64.1)\n",
      "Requirement already satisfied: tweepy in /home/coder/.local/lib/python3.9/site-packages (from danlp==0.0.11) (4.12.1)\n",
      "Requirement already satisfied: bpemb>=0.2.9 in /home/coder/.local/lib/python3.9/site-packages (from flair<0.6.0,>=0.4.5) (0.3.4)\n",
      "Requirement already satisfied: gensim>=3.4.0 in /home/coder/.local/lib/python3.9/site-packages (from flair<0.6.0,>=0.4.5) (4.3.0)\n",
      "Requirement already satisfied: torch>=1.1.0 in /home/coder/.local/lib/python3.9/site-packages (from flair<0.6.0,>=0.4.5) (1.13.1)\n",
      "Requirement already satisfied: mpld3==0.3 in /home/coder/.local/lib/python3.9/site-packages (from flair<0.6.0,>=0.4.5) (0.3)\n",
      "Requirement already satisfied: regex in /home/coder/.local/lib/python3.9/site-packages (from flair<0.6.0,>=0.4.5) (2022.10.31)\n",
      "Requirement already satisfied: matplotlib>=2.2.3 in /home/coder/.local/lib/python3.9/site-packages (from flair<0.6.0,>=0.4.5) (3.6.3)\n",
      "Requirement already satisfied: segtok>=1.5.7 in /home/coder/.local/lib/python3.9/site-packages (from flair<0.6.0,>=0.4.5) (1.5.11)\n",
      "Requirement already satisfied: tabulate in /home/coder/.local/lib/python3.9/site-packages (from flair<0.6.0,>=0.4.5) (0.9.0)\n",
      "Requirement already satisfied: pytest>=5.3.2 in /home/coder/.local/lib/python3.9/site-packages (from flair<0.6.0,>=0.4.5) (7.2.1)\n",
      "Requirement already satisfied: scikit-learn>=0.21.3 in /home/coder/.local/lib/python3.9/site-packages (from flair<0.6.0,>=0.4.5) (1.2.0)\n",
      "Requirement already satisfied: sqlitedict>=1.6.0 in /home/coder/.local/lib/python3.9/site-packages (from flair<0.6.0,>=0.4.5) (2.1.0)\n",
      "Requirement already satisfied: langdetect in /home/coder/.local/lib/python3.9/site-packages (from flair<0.6.0,>=0.4.5) (1.0.9)\n",
      "Requirement already satisfied: deprecated>=1.2.4 in /home/coder/.local/lib/python3.9/site-packages (from flair<0.6.0,>=0.4.5) (1.2.13)\n",
      "Requirement already satisfied: hyperopt>=0.1.1 in /home/coder/.local/lib/python3.9/site-packages (from flair<0.6.0,>=0.4.5) (0.2.7)\n",
      "Requirement already satisfied: transformers>=3.0.0 in /home/coder/.local/lib/python3.9/site-packages (from flair<0.6.0,>=0.4.5) (4.25.1)\n",
      "Requirement already satisfied: python-dateutil>=2.6.1 in /home/coder/.local/lib/python3.9/site-packages (from flair<0.6.0,>=0.4.5) (2.8.2)\n",
      "Requirement already satisfied: sentencepiece!=0.1.92 in /home/coder/.local/lib/python3.9/site-packages (from flair<0.6.0,>=0.4.5) (0.1.95)\n",
      "Requirement already satisfied: numpy in /home/coder/.local/lib/python3.9/site-packages (from bpemb>=0.2.9->flair<0.6.0,>=0.4.5) (1.24.1)\n",
      "Requirement already satisfied: requests in /home/coder/.local/lib/python3.9/site-packages (from bpemb>=0.2.9->flair<0.6.0,>=0.4.5) (2.28.2)\n",
      "Requirement already satisfied: wrapt<2,>=1.10 in /home/coder/.local/lib/python3.9/site-packages (from deprecated>=1.2.4->flair<0.6.0,>=0.4.5) (1.14.1)\n",
      "Requirement already satisfied: smart-open>=1.8.1 in /home/coder/.local/lib/python3.9/site-packages (from gensim>=3.4.0->flair<0.6.0,>=0.4.5) (6.3.0)\n",
      "Requirement already satisfied: FuzzyTM>=0.4.0 in /home/coder/.local/lib/python3.9/site-packages (from gensim>=3.4.0->flair<0.6.0,>=0.4.5) (2.0.5)\n",
      "Requirement already satisfied: scipy>=1.7.0 in /home/coder/.local/lib/python3.9/site-packages (from gensim>=3.4.0->flair<0.6.0,>=0.4.5) (1.10.0)\n",
      "Requirement already satisfied: cloudpickle in /home/coder/.local/lib/python3.9/site-packages (from hyperopt>=0.1.1->flair<0.6.0,>=0.4.5) (2.2.1)\n",
      "Requirement already satisfied: py4j in /home/coder/.local/lib/python3.9/site-packages (from hyperopt>=0.1.1->flair<0.6.0,>=0.4.5) (0.10.9.7)\n",
      "Requirement already satisfied: networkx>=2.2 in /home/coder/.local/lib/python3.9/site-packages (from hyperopt>=0.1.1->flair<0.6.0,>=0.4.5) (3.0)\n",
      "Requirement already satisfied: six in /home/coder/.local/lib/python3.9/site-packages (from hyperopt>=0.1.1->flair<0.6.0,>=0.4.5) (1.16.0)\n",
      "Requirement already satisfied: future in /home/coder/.local/lib/python3.9/site-packages (from hyperopt>=0.1.1->flair<0.6.0,>=0.4.5) (0.18.3)\n",
      "Requirement already satisfied: fonttools>=4.22.0 in /home/coder/.local/lib/python3.9/site-packages (from matplotlib>=2.2.3->flair<0.6.0,>=0.4.5) (4.38.0)\n",
      "Requirement already satisfied: pyparsing>=2.2.1 in /home/coder/.local/lib/python3.9/site-packages (from matplotlib>=2.2.3->flair<0.6.0,>=0.4.5) (3.0.9)\n",
      "Requirement already satisfied: pillow>=6.2.0 in /home/coder/.local/lib/python3.9/site-packages (from matplotlib>=2.2.3->flair<0.6.0,>=0.4.5) (9.4.0)\n",
      "Requirement already satisfied: contourpy>=1.0.1 in /home/coder/.local/lib/python3.9/site-packages (from matplotlib>=2.2.3->flair<0.6.0,>=0.4.5) (1.0.7)\n",
      "Requirement already satisfied: cycler>=0.10 in /home/coder/.local/lib/python3.9/site-packages (from matplotlib>=2.2.3->flair<0.6.0,>=0.4.5) (0.11.0)\n",
      "Requirement already satisfied: kiwisolver>=1.0.1 in /home/coder/.local/lib/python3.9/site-packages (from matplotlib>=2.2.3->flair<0.6.0,>=0.4.5) (1.4.4)\n",
      "Requirement already satisfied: packaging>=20.0 in /home/coder/.local/lib/python3.9/site-packages (from matplotlib>=2.2.3->flair<0.6.0,>=0.4.5) (23.0)\n",
      "Requirement already satisfied: pluggy<2.0,>=0.12 in /home/coder/.local/lib/python3.9/site-packages (from pytest>=5.3.2->flair<0.6.0,>=0.4.5) (1.0.0)\n",
      "Requirement already satisfied: exceptiongroup>=1.0.0rc8 in /home/coder/.local/lib/python3.9/site-packages (from pytest>=5.3.2->flair<0.6.0,>=0.4.5) (1.1.0)\n",
      "Requirement already satisfied: attrs>=19.2.0 in /home/coder/.local/lib/python3.9/site-packages (from pytest>=5.3.2->flair<0.6.0,>=0.4.5) (22.2.0)\n",
      "Requirement already satisfied: iniconfig in /home/coder/.local/lib/python3.9/site-packages (from pytest>=5.3.2->flair<0.6.0,>=0.4.5) (2.0.0)\n",
      "Requirement already satisfied: tomli>=1.0.0 in /home/coder/.local/lib/python3.9/site-packages (from pytest>=5.3.2->flair<0.6.0,>=0.4.5) (2.0.1)\n",
      "Requirement already satisfied: threadpoolctl>=2.0.0 in /home/coder/.local/lib/python3.9/site-packages (from scikit-learn>=0.21.3->flair<0.6.0,>=0.4.5) (3.1.0)\n",
      "Requirement already satisfied: joblib>=1.1.1 in /home/coder/.local/lib/python3.9/site-packages (from scikit-learn>=0.21.3->flair<0.6.0,>=0.4.5) (1.2.0)\n",
      "Requirement already satisfied: nvidia-cublas-cu11==11.10.3.66 in /home/coder/.local/lib/python3.9/site-packages (from torch>=1.1.0->flair<0.6.0,>=0.4.5) (11.10.3.66)\n",
      "Requirement already satisfied: nvidia-cuda-nvrtc-cu11==11.7.99 in /home/coder/.local/lib/python3.9/site-packages (from torch>=1.1.0->flair<0.6.0,>=0.4.5) (11.7.99)\n",
      "Requirement already satisfied: typing-extensions in /home/coder/.local/lib/python3.9/site-packages (from torch>=1.1.0->flair<0.6.0,>=0.4.5) (4.4.0)\n",
      "Requirement already satisfied: nvidia-cuda-runtime-cu11==11.7.99 in /home/coder/.local/lib/python3.9/site-packages (from torch>=1.1.0->flair<0.6.0,>=0.4.5) (11.7.99)\n",
      "Requirement already satisfied: nvidia-cudnn-cu11==8.5.0.96 in /home/coder/.local/lib/python3.9/site-packages (from torch>=1.1.0->flair<0.6.0,>=0.4.5) (8.5.0.96)\n",
      "Requirement already satisfied: setuptools in /usr/lib/python3/dist-packages (from nvidia-cublas-cu11==11.10.3.66->torch>=1.1.0->flair<0.6.0,>=0.4.5) (52.0.0)\n",
      "Requirement already satisfied: wheel in /usr/lib/python3/dist-packages (from nvidia-cublas-cu11==11.10.3.66->torch>=1.1.0->flair<0.6.0,>=0.4.5) (0.34.2)\n",
      "Requirement already satisfied: filelock in /home/coder/.local/lib/python3.9/site-packages (from transformers>=3.0.0->flair<0.6.0,>=0.4.5) (3.9.0)\n",
      "Requirement already satisfied: huggingface-hub<1.0,>=0.10.0 in /home/coder/.local/lib/python3.9/site-packages (from transformers>=3.0.0->flair<0.6.0,>=0.4.5) (0.11.1)\n",
      "Requirement already satisfied: tokenizers!=0.11.3,<0.14,>=0.11.1 in /home/coder/.local/lib/python3.9/site-packages (from transformers>=3.0.0->flair<0.6.0,>=0.4.5) (0.13.2)\n",
      "Requirement already satisfied: pyyaml>=5.1 in /home/coder/.local/lib/python3.9/site-packages (from transformers>=3.0.0->flair<0.6.0,>=0.4.5) (6.0)\n",
      "Requirement already satisfied: oauthlib<4,>=3.2.0 in /home/coder/.local/lib/python3.9/site-packages (from tweepy->danlp==0.0.11) (3.2.2)\n",
      "Requirement already satisfied: requests-oauthlib<2,>=1.2.0 in /home/coder/.local/lib/python3.9/site-packages (from tweepy->danlp==0.0.11) (1.3.1)\n",
      "Requirement already satisfied: pyfume in /home/coder/.local/lib/python3.9/site-packages (from FuzzyTM>=0.4.0->gensim>=3.4.0->flair<0.6.0,>=0.4.5) (0.2.25)\n",
      "Requirement already satisfied: pandas in /home/coder/.local/lib/python3.9/site-packages (from FuzzyTM>=0.4.0->gensim>=3.4.0->flair<0.6.0,>=0.4.5) (1.5.3)\n",
      "Requirement already satisfied: certifi>=2017.4.17 in /home/coder/.local/lib/python3.9/site-packages (from requests->bpemb>=0.2.9->flair<0.6.0,>=0.4.5) (2022.12.7)\n",
      "Requirement already satisfied: idna<4,>=2.5 in /home/coder/.local/lib/python3.9/site-packages (from requests->bpemb>=0.2.9->flair<0.6.0,>=0.4.5) (3.4)\n",
      "Requirement already satisfied: charset-normalizer<4,>=2 in /home/coder/.local/lib/python3.9/site-packages (from requests->bpemb>=0.2.9->flair<0.6.0,>=0.4.5) (3.0.1)\n",
      "Requirement already satisfied: urllib3<1.27,>=1.21.1 in /home/coder/.local/lib/python3.9/site-packages (from requests->bpemb>=0.2.9->flair<0.6.0,>=0.4.5) (1.24.3)\n",
      "Requirement already satisfied: pytz>=2020.1 in /home/coder/.local/lib/python3.9/site-packages (from pandas->FuzzyTM>=0.4.0->gensim>=3.4.0->flair<0.6.0,>=0.4.5) (2022.7.1)\n",
      "Requirement already satisfied: fst-pso in /home/coder/.local/lib/python3.9/site-packages (from pyfume->FuzzyTM>=0.4.0->gensim>=3.4.0->flair<0.6.0,>=0.4.5) (1.8.1)\n",
      "Requirement already satisfied: simpful in /home/coder/.local/lib/python3.9/site-packages (from pyfume->FuzzyTM>=0.4.0->gensim>=3.4.0->flair<0.6.0,>=0.4.5) (2.9.0)\n",
      "Requirement already satisfied: miniful in /home/coder/.local/lib/python3.9/site-packages (from fst-pso->pyfume->FuzzyTM>=0.4.0->gensim>=3.4.0->flair<0.6.0,>=0.4.5) (0.0.6)\n",
      "Installing collected packages: flair\n",
      "  Attempting uninstall: flair\n",
      "    Found existing installation: flair 0.11.3\n",
      "    Uninstalling flair-0.11.3:\n",
      "      Successfully uninstalled flair-0.11.3\n",
      "Successfully installed flair-0.5.1\n"
     ]
    }
   ],
   "source": [
    "#!pip install \"danlp==0.0.11\" \"flair>=0.4.5,<0.6.0\" --upgrade"
   ]
  },
  {
   "cell_type": "code",
   "execution_count": 2,
   "metadata": {},
   "outputs": [
    {
     "name": "stderr",
     "output_type": "stream",
     "text": [
      "/home/coder/.local/lib/python3.9/site-packages/tqdm/auto.py:22: TqdmWarning: IProgress not found. Please update jupyter and ipywidgets. See https://ipywidgets.readthedocs.io/en/stable/user_install.html\n",
      "  from .autonotebook import tqdm as notebook_tqdm\n",
      "/home/coder/.local/lib/python3.9/site-packages/torch/cuda/__init__.py:52: UserWarning: CUDA initialization: Found no NVIDIA driver on your system. Please check that you have an NVIDIA GPU and installed a driver from http://www.nvidia.com/Download/index.aspx (Triggered internally at  /pytorch/c10/cuda/CUDAFunctions.cpp:100.)\n",
      "  return torch._C._cuda_getDeviceCount() > 0\n"
     ]
    },
    {
     "name": "stdout",
     "output_type": "stream",
     "text": [
      "Downloading file /tmp/tmp9gujmvfe\n",
      "2023-01-24 14:59:58,862 loading file /home/coder/.danlp/flair.ner.pt\n"
     ]
    }
   ],
   "source": [
    "from danlp.models import load_flair_ner_model\n",
    "from flair.data import Sentence\n",
    "\n",
    "text = \"Morten bor i København tæt på Kongens Nytorv\"\n",
    "sentence = Sentence(text)\n",
    "\n",
    "tagger = load_flair_ner_model()\n",
    "\n",
    "tagger.predict(sentence)"
   ]
  },
  {
   "cell_type": "code",
   "execution_count": 6,
   "metadata": {},
   "outputs": [
    {
     "name": "stdout",
     "output_type": "stream",
     "text": [
      "Morten \n",
      "bor \n",
      "i \n",
      "København \n",
      "tæt \n",
      "på \n",
      "Kongens \n",
      "Nytorv \n"
     ]
    }
   ],
   "source": [
    "for tok in sentence.tokens:\n",
    "    print(tok.text, tok.get_tag('upos').value)"
   ]
  },
  {
   "cell_type": "code",
   "execution_count": 4,
   "metadata": {},
   "outputs": [
    {
     "name": "stdout",
     "output_type": "stream",
     "text": [
      "2023-01-24 14:23:34,086 loading file /home/coder/.danlp/flair.ner.pt\n",
      "2023-01-24 14:23:55,880 loading file /home/coder/.danlp/flair.pos.pt\n"
     ]
    }
   ],
   "source": [
    "from apply_fns.apply_fn_flair import apply_flair"
   ]
  }
 ],
 "metadata": {
  "kernelspec": {
   "display_name": "Python 3",
   "language": "python",
   "name": "python3"
  },
  "language_info": {
   "codemirror_mode": {
    "name": "ipython",
    "version": 3
   },
   "file_extension": ".py",
   "mimetype": "text/x-python",
   "name": "python",
   "nbconvert_exporter": "python",
   "pygments_lexer": "ipython3",
   "version": "3.9.2 (default, Feb 28 2021, 17:03:44) \n[GCC 10.2.1 20210110]"
  },
  "orig_nbformat": 4,
  "vscode": {
   "interpreter": {
    "hash": "767d51c1340bd893661ea55ea3124f6de3c7a262a8b4abca0554b478b1e2ff90"
   }
  }
 },
 "nbformat": 4,
 "nbformat_minor": 2
}
