{
 "cells": [
  {
   "cell_type": "code",
   "execution_count": 8,
   "metadata": {},
   "outputs": [],
   "source": [
    "from dacy.datasets import dane, danish_names, female_names, male_names, muslim_names, load_names\n",
    "import pandas as pd"
   ]
  },
  {
   "cell_type": "code",
   "execution_count": 247,
   "metadata": {},
   "outputs": [
    {
     "name": "stderr",
     "output_type": "stream",
     "text": [
      "/home/coder/.local/lib/python3.9/site-packages/dacy/datasets/names.py:53: FutureWarning: Not prepending group keys to the result index of transform-like apply. In the future, the group keys will be included in the index, regardless of whether the applied function returns a like-indexed object.\n",
      "To preserve the previous behavior, use\n",
      "\n",
      "\t>>> .groupby(..., group_keys=False)\n",
      "\n",
      "To adopt the future behavior and silence this warning, use \n",
      "\n",
      "\t>>> .groupby(..., group_keys=True)\n",
      "  names = names.groupby(level=0).apply(lambda x: x / float(x.sum()))\n",
      "/home/coder/.local/lib/python3.9/site-packages/dacy/datasets/names.py:53: FutureWarning: Not prepending group keys to the result index of transform-like apply. In the future, the group keys will be included in the index, regardless of whether the applied function returns a like-indexed object.\n",
      "To preserve the previous behavior, use\n",
      "\n",
      "\t>>> .groupby(..., group_keys=False)\n",
      "\n",
      "To adopt the future behavior and silence this warning, use \n",
      "\n",
      "\t>>> .groupby(..., group_keys=True)\n",
      "  names = names.groupby(level=0).apply(lambda x: x / float(x.sum()))\n",
      "/home/coder/.local/lib/python3.9/site-packages/dacy/datasets/names.py:53: FutureWarning: Not prepending group keys to the result index of transform-like apply. In the future, the group keys will be included in the index, regardless of whether the applied function returns a like-indexed object.\n",
      "To preserve the previous behavior, use\n",
      "\n",
      "\t>>> .groupby(..., group_keys=False)\n",
      "\n",
      "To adopt the future behavior and silence this warning, use \n",
      "\n",
      "\t>>> .groupby(..., group_keys=True)\n",
      "  names = names.groupby(level=0).apply(lambda x: x / float(x.sum()))\n",
      "/home/coder/.local/lib/python3.9/site-packages/dacy/datasets/names.py:53: FutureWarning: Not prepending group keys to the result index of transform-like apply. In the future, the group keys will be included in the index, regardless of whether the applied function returns a like-indexed object.\n",
      "To preserve the previous behavior, use\n",
      "\n",
      "\t>>> .groupby(..., group_keys=False)\n",
      "\n",
      "To adopt the future behavior and silence this warning, use \n",
      "\n",
      "\t>>> .groupby(..., group_keys=True)\n",
      "  names = names.groupby(level=0).apply(lambda x: x / float(x.sum()))\n"
     ]
    }
   ],
   "source": [
    "#load all names\n",
    "dk_name_dict = danish_names()\n",
    "muslim_name_dict = muslim_names()\n",
    "\n",
    "f_name_dict = female_names()\n",
    "m_name_dict = male_names()\n",
    "\n",
    "muslim_m_dict = load_names(ethnicity=\"muslim\", gender=\"male\", min_prop_gender=0.5)\n",
    "muslim_f_dict = load_names(ethnicity=\"muslim\", gender=\"female\", min_prop_gender=0.5)"
   ]
  },
  {
   "cell_type": "code",
   "execution_count": 233,
   "metadata": {},
   "outputs": [],
   "source": [
    "#find duplicates between muslim and danish names\n",
    "duplicates_set = list(set(dk_name_dict[\"first_name\"]).intersection(muslim_name_dict[\"first_name\"]))"
   ]
  },
  {
   "cell_type": "code",
   "execution_count": 234,
   "metadata": {},
   "outputs": [],
   "source": [
    "# read in annotated\n",
    "duplicates = pd.read_csv(\"duplicates-names-annotated.csv\", index_col=[0])"
   ]
  },
  {
   "cell_type": "code",
   "execution_count": 255,
   "metadata": {},
   "outputs": [],
   "source": [
    "muslim_only=list(duplicates.query(\"origin=='M'\")[\"duplicates\"])\n",
    "danish_only=list(duplicates.query(\"origin=='DK'\")[\"duplicates\"])"
   ]
  },
  {
   "cell_type": "code",
   "execution_count": 262,
   "metadata": {},
   "outputs": [
    {
     "name": "stdout",
     "output_type": "stream",
     "text": [
      "['Sofia', 'May', 'Elias', 'Lina', 'Jul', 'Nadia', 'Adam', 'Susan', 'Naja', 'Jan', 'Mona', 'Nadja', 'Hanna', 'Maria']\n"
     ]
    }
   ],
   "source": [
    "print(danish_only)"
   ]
  },
  {
   "cell_type": "code",
   "execution_count": 258,
   "metadata": {},
   "outputs": [],
   "source": [
    "def remove_duplicates(all_names, names_to_filter_away):\n",
    "    all_names = [name for name in all_names if name not in names_to_filter_away]\n",
    "    return all_names"
   ]
  },
  {
   "cell_type": "code",
   "execution_count": 259,
   "metadata": {},
   "outputs": [],
   "source": [
    "#overall\n",
    "dk_name_dict[\"first_name\"] = remove_duplicates(dk_name_dict[\"first_name\"], muslim_only)\n",
    "muslim_name_dict[\"first_name\"] = remove_duplicates(muslim_name_dict[\"first_name\"], danish_only)\n",
    "\n",
    "# for danish genders \n",
    "f_name_dict[\"first_name\"] = remove_duplicates(f_name_dict[\"first_name\"], muslim_only)\n",
    "m_name_dict[\"first_name\"] = remove_duplicates(m_name_dict[\"first_name\"], muslim_only)\n",
    "\n",
    "# for muslim genders\n",
    "muslim_f_name_dict[\"first_name\"] = remove_duplicates(muslim_f_name_dict[\"first_name\"], danish_only)\n",
    "muslim_m_name_dict[\"first_name\"] = remove_duplicates(muslim_m_name_dict[\"first_name\"], danish_only)"
   ]
  }
 ],
 "metadata": {
  "kernelspec": {
   "display_name": "Python 3",
   "language": "python",
   "name": "python3"
  },
  "language_info": {
   "codemirror_mode": {
    "name": "ipython",
    "version": 3
   },
   "file_extension": ".py",
   "mimetype": "text/x-python",
   "name": "python",
   "nbconvert_exporter": "python",
   "pygments_lexer": "ipython3",
   "version": "3.9.2"
  },
  "orig_nbformat": 4,
  "vscode": {
   "interpreter": {
    "hash": "767d51c1340bd893661ea55ea3124f6de3c7a262a8b4abca0554b478b1e2ff90"
   }
  }
 },
 "nbformat": 4,
 "nbformat_minor": 2
}
